{
  "nbformat": 4,
  "nbformat_minor": 0,
  "metadata": {
    "colab": {
      "provenance": []
    },
    "kernelspec": {
      "name": "python3",
      "display_name": "Python 3"
    },
    "language_info": {
      "name": "python"
    }
  },
  "cells": [
    {
      "cell_type": "code",
      "execution_count": null,
      "metadata": {
        "id": "t8z7H16mV8SC"
      },
      "outputs": [],
      "source": [
        "import zipfile\n",
        "import os\n",
        "import pandas as pd\n",
        "import numpy as np"
      ]
    },
    {
      "cell_type": "code",
      "source": [
        "zip_path = '/content/archive.zip'\n",
        "extract_to = '/content/news'\n",
        "\n",
        "with zipfile.ZipFile(zip_path, 'r') as zip_ref:\n",
        "  zip_ref.extractall(extract_to)\n",
        "\n",
        "print(\"Unzipped successfully!\")"
      ],
      "metadata": {
        "colab": {
          "base_uri": "https://localhost:8080/"
        },
        "id": "NhnXbdhHWEx-",
        "outputId": "5b62b87a-9551-4964-e071-ab6439ef853f"
      },
      "execution_count": null,
      "outputs": [
        {
          "output_type": "stream",
          "name": "stdout",
          "text": [
            "Unzipped successfully!\n"
          ]
        }
      ]
    },
    {
      "cell_type": "code",
      "source": [
        "df_fake = pd.read_csv(\"/content/news/Fake.csv\")\n",
        "df_true = pd.read_csv(\"/content/news/True.csv\")\n",
        "\n",
        "df_fake['label'] = 1\n",
        "df_true['label'] = 0\n",
        "\n",
        "df = pd.concat([df_true,df_fake],ignore_index=True)\n",
        "df.head()\n",
        "\n",
        "sample_size = .05  # or use sample_frac = 0.1\n",
        "\n",
        "# Sample rows (by size or fraction)\n",
        "fake_sample = df_fake.sample(frac=sample_size, random_state=42)\n",
        "real_sample = df_true.sample(frac=sample_size, random_state=42)\n",
        "\n",
        "# Save sampled CSVs\n",
        "fake_sample.to_csv(\"fake_sample.csv\", index=False)\n",
        "real_sample.to_csv(\"true_sample.csv\", index=False)"
      ],
      "metadata": {
        "id": "5i8DGAR2WHF1"
      },
      "execution_count": null,
      "outputs": []
    }
  ]
}